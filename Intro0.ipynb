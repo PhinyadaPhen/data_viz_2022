{
  "nbformat": 4,
  "nbformat_minor": 0,
  "metadata": {
    "colab": {
      "name": "Intro0.ipynb",
      "provenance": [],
      "authorship_tag": "ABX9TyODwLfW7NpojXB1aZvx42g0",
      "include_colab_link": true
    },
    "kernelspec": {
      "name": "python3",
      "display_name": "Python 3"
    },
    "language_info": {
      "name": "python"
    }
  },
  "cells": [
    {
      "cell_type": "markdown",
      "metadata": {
        "id": "view-in-github",
        "colab_type": "text"
      },
      "source": [
        "<a href=\"https://colab.research.google.com/github/PhinyadaPhen/data_viz_2022/blob/main/Intro0.ipynb\" target=\"_parent\"><img src=\"https://colab.research.google.com/assets/colab-badge.svg\" alt=\"Open In Colab\"/></a>"
      ]
    },
    {
      "cell_type": "markdown",
      "source": [
        "Introduction to Basic Programming for Data Science and Data Visualization"
      ],
      "metadata": {
        "id": "EstGkskJ-O0s"
      }
    },
    {
      "cell_type": "code",
      "execution_count": 1,
      "metadata": {
        "colab": {
          "base_uri": "https://localhost:8080/"
        },
        "id": "C2TvFUrZ9q7F",
        "outputId": "1c5cd538-e0df-448f-862c-fdb3946cce77"
      },
      "outputs": [
        {
          "output_type": "execute_result",
          "data": {
            "text/plain": [
              "3"
            ]
          },
          "metadata": {},
          "execution_count": 1
        }
      ],
      "source": [
        "a = 1 \n",
        "b = 2\n",
        "a + b "
      ]
    },
    {
      "cell_type": "markdown",
      "source": [
        "1 + 2"
      ],
      "metadata": {
        "id": "YSXBm4kv-tLc"
      }
    },
    {
      "cell_type": "code",
      "source": [
        "print('ภิญญาดา เพ็ญสุข 6230210522')"
      ],
      "metadata": {
        "colab": {
          "base_uri": "https://localhost:8080/"
        },
        "id": "Z0NP5JIr9xwy",
        "outputId": "98e9fe6b-b424-4166-be57-5c1660dc7b51"
      },
      "execution_count": 2,
      "outputs": [
        {
          "output_type": "stream",
          "name": "stdout",
          "text": [
            "ภิญญาดา เพ็ญสุข 6230210522\n"
          ]
        }
      ]
    },
    {
      "cell_type": "code",
      "source": [
        ""
      ],
      "metadata": {
        "id": "pPf1ntPX_RLB"
      },
      "execution_count": null,
      "outputs": []
    }
  ]
}